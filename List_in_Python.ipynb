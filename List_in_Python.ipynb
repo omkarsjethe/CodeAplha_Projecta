{
  "nbformat": 4,
  "nbformat_minor": 0,
  "metadata": {
    "colab": {
      "provenance": [],
      "authorship_tag": "ABX9TyO7xbkrMVjmsiO1JNYxg1i7",
      "include_colab_link": true
    },
    "kernelspec": {
      "name": "python3",
      "display_name": "Python 3"
    },
    "language_info": {
      "name": "python"
    }
  },
  "cells": [
    {
      "cell_type": "markdown",
      "metadata": {
        "id": "view-in-github",
        "colab_type": "text"
      },
      "source": [
        "<a href=\"https://colab.research.google.com/github/omkarsjethe/CodeAplha_Projecta/blob/main/List_in_Python.ipynb\" target=\"_parent\"><img src=\"https://colab.research.google.com/assets/colab-badge.svg\" alt=\"Open In Colab\"/></a>"
      ]
    },
    {
      "cell_type": "code",
      "execution_count": 1,
      "metadata": {
        "colab": {
          "base_uri": "https://localhost:8080/"
        },
        "id": "oL17aEZOgRKB",
        "outputId": "3e7d8442-b311-4f37-e9d7-e05505da11c0"
      },
      "outputs": [
        {
          "output_type": "stream",
          "name": "stdout",
          "text": [
            "['omkar', 'yash', 'pratham']\n"
          ]
        }
      ],
      "source": [
        "a=[\"omkar\",\"yash\",\"pratham\"]\n",
        "print(a)"
      ]
    },
    {
      "cell_type": "code",
      "source": [
        "#Checking the length\n"
      ],
      "metadata": {
        "id": "bvCP5a_yggOJ"
      },
      "execution_count": 2,
      "outputs": []
    },
    {
      "cell_type": "code",
      "source": [
        "len(a)"
      ],
      "metadata": {
        "colab": {
          "base_uri": "https://localhost:8080/"
        },
        "id": "laagLRi2hGdh",
        "outputId": "b3d57765-2bd5-4655-e990-d83fbc46b39f"
      },
      "execution_count": 3,
      "outputs": [
        {
          "output_type": "execute_result",
          "data": {
            "text/plain": [
              "3"
            ]
          },
          "metadata": {},
          "execution_count": 3
        }
      ]
    },
    {
      "cell_type": "code",
      "source": [
        "print(type(a))"
      ],
      "metadata": {
        "colab": {
          "base_uri": "https://localhost:8080/"
        },
        "id": "CX6EwVxuhIdH",
        "outputId": "06e897ba-4eb4-482a-d48d-bad03d6b71a3"
      },
      "execution_count": 4,
      "outputs": [
        {
          "output_type": "stream",
          "name": "stdout",
          "text": [
            "<class 'list'>\n"
          ]
        }
      ]
    },
    {
      "cell_type": "code",
      "source": [
        "print(len(a[1]))"
      ],
      "metadata": {
        "colab": {
          "base_uri": "https://localhost:8080/"
        },
        "id": "wlb4qXXRhRSY",
        "outputId": "c00d14d4-576c-4511-d3d7-7f5472961b6f"
      },
      "execution_count": 5,
      "outputs": [
        {
          "output_type": "stream",
          "name": "stdout",
          "text": [
            "4\n"
          ]
        }
      ]
    },
    {
      "cell_type": "markdown",
      "source": [
        "Positive Indexing"
      ],
      "metadata": {
        "id": "4yKJDhZuh_iG"
      }
    },
    {
      "cell_type": "code",
      "source": [
        "a=[\"Omkar\",\"Yash\",\"Pratham\",\"Anushree\",\"Aishwarya\"]\n",
        "print(a[3])"
      ],
      "metadata": {
        "colab": {
          "base_uri": "https://localhost:8080/"
        },
        "id": "nuiDnw9NhaIo",
        "outputId": "3c13306f-35a5-42b2-80a5-8e3c2f82caa4"
      },
      "execution_count": 6,
      "outputs": [
        {
          "output_type": "stream",
          "name": "stdout",
          "text": [
            "Anushree\n"
          ]
        }
      ]
    },
    {
      "cell_type": "code",
      "source": [
        "print(a[-1])"
      ],
      "metadata": {
        "colab": {
          "base_uri": "https://localhost:8080/"
        },
        "id": "8t-sKSJmiFNX",
        "outputId": "bd2971b8-7d2b-4e7c-e95f-3b0a751bfef7"
      },
      "execution_count": 7,
      "outputs": [
        {
          "output_type": "stream",
          "name": "stdout",
          "text": [
            "Aishwarya\n"
          ]
        }
      ]
    },
    {
      "cell_type": "markdown",
      "source": [
        "Range of Indexes"
      ],
      "metadata": {
        "id": "vU2D46cViOjY"
      }
    },
    {
      "cell_type": "code",
      "source": [
        "print(a[1:3])"
      ],
      "metadata": {
        "colab": {
          "base_uri": "https://localhost:8080/"
        },
        "id": "1Mp-0TSaiSvB",
        "outputId": "cfd20c04-716a-47db-e00c-41cb5cb734d1"
      },
      "execution_count": 8,
      "outputs": [
        {
          "output_type": "stream",
          "name": "stdout",
          "text": [
            "['Yash', 'Pratham']\n"
          ]
        }
      ]
    },
    {
      "cell_type": "code",
      "source": [
        "print(a[:2])"
      ],
      "metadata": {
        "colab": {
          "base_uri": "https://localhost:8080/"
        },
        "id": "vGOG_PKyiW5f",
        "outputId": "5bed192b-6e5e-4f3d-b5f7-877f07ce6f0e"
      },
      "execution_count": 9,
      "outputs": [
        {
          "output_type": "stream",
          "name": "stdout",
          "text": [
            "['Omkar', 'Yash']\n"
          ]
        }
      ]
    },
    {
      "cell_type": "code",
      "source": [
        "print(a[2:])"
      ],
      "metadata": {
        "colab": {
          "base_uri": "https://localhost:8080/"
        },
        "id": "8prRqv1tikTP",
        "outputId": "1e7362ce-5a17-497b-faae-95de4bdecf43"
      },
      "execution_count": 10,
      "outputs": [
        {
          "output_type": "stream",
          "name": "stdout",
          "text": [
            "['Pratham', 'Anushree', 'Aishwarya']\n"
          ]
        }
      ]
    },
    {
      "cell_type": "code",
      "source": [
        "if \"Omkar\" in  a :\n",
        "  print(\"Present \")\n",
        "else :\n",
        "  print(\"Absent\")"
      ],
      "metadata": {
        "colab": {
          "base_uri": "https://localhost:8080/"
        },
        "id": "-GvrqHP9irKB",
        "outputId": "457a0c50-66f5-437f-fabe-7a059f34e67b"
      },
      "execution_count": 11,
      "outputs": [
        {
          "output_type": "stream",
          "name": "stdout",
          "text": [
            "Present \n"
          ]
        }
      ]
    },
    {
      "cell_type": "markdown",
      "source": [
        "Change List Items"
      ],
      "metadata": {
        "id": "mPgnqG72jHfc"
      }
    },
    {
      "cell_type": "code",
      "source": [
        "print(a)"
      ],
      "metadata": {
        "colab": {
          "base_uri": "https://localhost:8080/"
        },
        "id": "xkTWsXpojIzW",
        "outputId": "7b68c2a1-f160-4d9e-dbfe-9425c2c579f3"
      },
      "execution_count": 12,
      "outputs": [
        {
          "output_type": "stream",
          "name": "stdout",
          "text": [
            "['Omkar', 'Yash', 'Pratham', 'Anushree', 'Aishwarya']\n"
          ]
        }
      ]
    },
    {
      "cell_type": "code",
      "source": [
        "a[4]=\"Esha\"\n",
        "print(a)"
      ],
      "metadata": {
        "colab": {
          "base_uri": "https://localhost:8080/"
        },
        "id": "YhDicybBjNlk",
        "outputId": "28d0fd2c-c945-438d-e5cf-79801c34ef5d"
      },
      "execution_count": 13,
      "outputs": [
        {
          "output_type": "stream",
          "name": "stdout",
          "text": [
            "['Omkar', 'Yash', 'Pratham', 'Anushree', 'Esha']\n"
          ]
        }
      ]
    },
    {
      "cell_type": "code",
      "source": [
        "thislist = [\"apple\", \"banana\", \"cherry\", \"orange\", \"kiwi\", \"mango\"]\n",
        "thislist[1:3] = [\"blackcurrant\", \"watermelon\"]\n",
        "print(thislist)"
      ],
      "metadata": {
        "colab": {
          "base_uri": "https://localhost:8080/"
        },
        "id": "0WR_afJIjUCe",
        "outputId": "88f43f32-1bb8-4248-a985-959ee884e79d"
      },
      "execution_count": 14,
      "outputs": [
        {
          "output_type": "stream",
          "name": "stdout",
          "text": [
            "['apple', 'blackcurrant', 'watermelon', 'orange', 'kiwi', 'mango']\n"
          ]
        }
      ]
    },
    {
      "cell_type": "code",
      "source": [
        "a.insert(4,\"Shubham\")\n",
        "print(a)"
      ],
      "metadata": {
        "colab": {
          "base_uri": "https://localhost:8080/"
        },
        "id": "cAJ0U2VXj6Kz",
        "outputId": "61833d35-3919-4542-f3a3-7acdea83426a"
      },
      "execution_count": 15,
      "outputs": [
        {
          "output_type": "stream",
          "name": "stdout",
          "text": [
            "['Omkar', 'Yash', 'Pratham', 'Anushree', 'Shubham', 'Esha']\n"
          ]
        }
      ]
    },
    {
      "cell_type": "code",
      "source": [
        "a.insert(7,\"Aishwarya\")\n",
        "print(a)"
      ],
      "metadata": {
        "colab": {
          "base_uri": "https://localhost:8080/"
        },
        "id": "FftPSvlplI8T",
        "outputId": "6cd71c86-6b13-4026-e784-dec5f8503055"
      },
      "execution_count": 16,
      "outputs": [
        {
          "output_type": "stream",
          "name": "stdout",
          "text": [
            "['Omkar', 'Yash', 'Pratham', 'Anushree', 'Shubham', 'Esha', 'Aishwarya']\n"
          ]
        }
      ]
    },
    {
      "cell_type": "markdown",
      "source": [
        "Add List Items"
      ],
      "metadata": {
        "id": "nGcYFHRnhGkC"
      }
    },
    {
      "cell_type": "code",
      "source": [
        "a"
      ],
      "metadata": {
        "colab": {
          "base_uri": "https://localhost:8080/"
        },
        "id": "yZLuY8V6hH6p",
        "outputId": "aa7beff0-e2cc-4c5a-d02b-f41f358bdd2f"
      },
      "execution_count": 17,
      "outputs": [
        {
          "output_type": "execute_result",
          "data": {
            "text/plain": [
              "['Omkar', 'Yash', 'Pratham', 'Anushree', 'Shubham', 'Esha', 'Aishwarya']"
            ]
          },
          "metadata": {},
          "execution_count": 17
        }
      ]
    },
    {
      "cell_type": "code",
      "source": [
        "a.append(\"Preeti\")\n",
        "print(a)"
      ],
      "metadata": {
        "colab": {
          "base_uri": "https://localhost:8080/"
        },
        "id": "KlCZsi99hLH_",
        "outputId": "c09f0ffe-0ca0-463c-c27a-53bd9d3eea88"
      },
      "execution_count": 18,
      "outputs": [
        {
          "output_type": "stream",
          "name": "stdout",
          "text": [
            "['Omkar', 'Yash', 'Pratham', 'Anushree', 'Shubham', 'Esha', 'Aishwarya', 'Preeti']\n"
          ]
        }
      ]
    },
    {
      "cell_type": "code",
      "source": [
        "a.insert(7,\"Sahil\")\n",
        "print(a)"
      ],
      "metadata": {
        "colab": {
          "base_uri": "https://localhost:8080/"
        },
        "id": "lX2vwFyqh9Go",
        "outputId": "4ac8a56f-7921-480f-94db-dc741a50b930"
      },
      "execution_count": 19,
      "outputs": [
        {
          "output_type": "stream",
          "name": "stdout",
          "text": [
            "['Omkar', 'Yash', 'Pratham', 'Anushree', 'Shubham', 'Esha', 'Aishwarya', 'Sahil', 'Preeti']\n"
          ]
        }
      ]
    },
    {
      "cell_type": "code",
      "source": [
        "b=[24,23,24,25,25,26,27,23,21]\n",
        "b.extend(a)\n",
        "print(b)"
      ],
      "metadata": {
        "colab": {
          "base_uri": "https://localhost:8080/"
        },
        "id": "r4-WjdcXikcH",
        "outputId": "336fce1a-2a39-42bf-e8a9-e738f17f96be"
      },
      "execution_count": 20,
      "outputs": [
        {
          "output_type": "stream",
          "name": "stdout",
          "text": [
            "[24, 23, 24, 25, 25, 26, 27, 23, 21, 'Omkar', 'Yash', 'Pratham', 'Anushree', 'Shubham', 'Esha', 'Aishwarya', 'Sahil', 'Preeti']\n"
          ]
        }
      ]
    },
    {
      "cell_type": "markdown",
      "source": [
        "Remove List Items"
      ],
      "metadata": {
        "id": "vhQQJ4mii-Ug"
      }
    },
    {
      "cell_type": "code",
      "source": [
        "a.remove(\"Esha\")\n",
        "print(a)"
      ],
      "metadata": {
        "colab": {
          "base_uri": "https://localhost:8080/"
        },
        "id": "LyWE2DUJjmg2",
        "outputId": "c85dde3f-374e-4406-f856-35a869fb8cda"
      },
      "execution_count": 21,
      "outputs": [
        {
          "output_type": "stream",
          "name": "stdout",
          "text": [
            "['Omkar', 'Yash', 'Pratham', 'Anushree', 'Shubham', 'Aishwarya', 'Sahil', 'Preeti']\n"
          ]
        }
      ]
    },
    {
      "cell_type": "code",
      "source": [
        "thislist = [\"apple\", \"banana\", \"cherry\", \"banana\", \"kiwi\"]\n",
        "thislist.remove(\"banana\")\n",
        "print(thislist)"
      ],
      "metadata": {
        "colab": {
          "base_uri": "https://localhost:8080/"
        },
        "id": "5xWoQfU_jATt",
        "outputId": "cb9eae98-f6b6-4812-88fe-be646bdc7fbc"
      },
      "execution_count": 22,
      "outputs": [
        {
          "output_type": "stream",
          "name": "stdout",
          "text": [
            "['apple', 'cherry', 'banana', 'kiwi']\n"
          ]
        }
      ]
    },
    {
      "cell_type": "code",
      "source": [
        "thislist = [\"apple\", \"banana\", \"cherry\", \"banana\", \"kiwi\"]\n",
        "thislist.pop(1)\n",
        "print(thislist)"
      ],
      "metadata": {
        "colab": {
          "base_uri": "https://localhost:8080/"
        },
        "id": "e3xHT9Yujyl_",
        "outputId": "ee8fde69-0f27-45f4-f614-ebd499f3ff8a"
      },
      "execution_count": 23,
      "outputs": [
        {
          "output_type": "stream",
          "name": "stdout",
          "text": [
            "['apple', 'cherry', 'banana', 'kiwi']\n"
          ]
        }
      ]
    },
    {
      "cell_type": "code",
      "source": [
        "for i in a :\n",
        "  print(i)"
      ],
      "metadata": {
        "colab": {
          "base_uri": "https://localhost:8080/"
        },
        "id": "CVnYAW7Is_Dq",
        "outputId": "0f42c67d-b150-4f59-bc6e-969a1e343452"
      },
      "execution_count": 24,
      "outputs": [
        {
          "output_type": "stream",
          "name": "stdout",
          "text": [
            "Omkar\n",
            "Yash\n",
            "Pratham\n",
            "Anushree\n",
            "Shubham\n",
            "Aishwarya\n",
            "Sahil\n",
            "Preeti\n"
          ]
        }
      ]
    },
    {
      "cell_type": "code",
      "source": [
        "for i in range (len(a)):\n",
        "  print(a[i])"
      ],
      "metadata": {
        "colab": {
          "base_uri": "https://localhost:8080/"
        },
        "id": "hAd6PfVWtGKO",
        "outputId": "29a9583b-7b91-4b8c-ff0d-5aa45c99898d"
      },
      "execution_count": 25,
      "outputs": [
        {
          "output_type": "stream",
          "name": "stdout",
          "text": [
            "Omkar\n",
            "Yash\n",
            "Pratham\n",
            "Anushree\n",
            "Shubham\n",
            "Aishwarya\n",
            "Sahil\n",
            "Preeti\n"
          ]
        }
      ]
    },
    {
      "cell_type": "code",
      "source": [
        "#Sorting"
      ],
      "metadata": {
        "id": "nkVKSlGptNty"
      },
      "execution_count": 26,
      "outputs": []
    },
    {
      "cell_type": "code",
      "source": [
        "a.sort()\n",
        "print(a)"
      ],
      "metadata": {
        "colab": {
          "base_uri": "https://localhost:8080/"
        },
        "id": "kpHBEexstxAe",
        "outputId": "ae152c8e-05fe-482d-f717-8d29c1315f87"
      },
      "execution_count": 27,
      "outputs": [
        {
          "output_type": "stream",
          "name": "stdout",
          "text": [
            "['Aishwarya', 'Anushree', 'Omkar', 'Pratham', 'Preeti', 'Sahil', 'Shubham', 'Yash']\n"
          ]
        }
      ]
    },
    {
      "cell_type": "code",
      "source": [
        "c=[24,23,24,25,25,26,27,23,21]\n",
        "c.sort()\n",
        "print(c)"
      ],
      "metadata": {
        "colab": {
          "base_uri": "https://localhost:8080/"
        },
        "id": "nix1hJcXt0tz",
        "outputId": "1d58998f-293e-4839-dd31-6a9f05632e63"
      },
      "execution_count": 28,
      "outputs": [
        {
          "output_type": "stream",
          "name": "stdout",
          "text": [
            "[21, 23, 23, 24, 24, 25, 25, 26, 27]\n"
          ]
        }
      ]
    },
    {
      "cell_type": "code",
      "source": [
        "c.sort(reverse=True)\n",
        "print(c)"
      ],
      "metadata": {
        "colab": {
          "base_uri": "https://localhost:8080/"
        },
        "id": "HSv0o71it-zV",
        "outputId": "d62c4f31-d19c-4302-855e-ea7926b66c1f"
      },
      "execution_count": 29,
      "outputs": [
        {
          "output_type": "stream",
          "name": "stdout",
          "text": [
            "[27, 26, 25, 25, 24, 24, 23, 23, 21]\n"
          ]
        }
      ]
    },
    {
      "cell_type": "code",
      "source": [
        "def sorting (n):\n",
        "  return abs(n-25)\n",
        "c.sort(key=sorting)\n",
        "print(c)"
      ],
      "metadata": {
        "colab": {
          "base_uri": "https://localhost:8080/"
        },
        "id": "tHJkKMFMuGCy",
        "outputId": "54a57fa2-f4cd-49a8-e53a-9534937e4812"
      },
      "execution_count": 30,
      "outputs": [
        {
          "output_type": "stream",
          "name": "stdout",
          "text": [
            "[25, 25, 26, 24, 24, 27, 23, 23, 21]\n"
          ]
        }
      ]
    },
    {
      "cell_type": "code",
      "source": [
        "thislist = [\"banana\", \"Orange\", \"Kiwi\", \"cherry\"]\n",
        "thislist.sort()\n",
        "print(thislist)"
      ],
      "metadata": {
        "colab": {
          "base_uri": "https://localhost:8080/"
        },
        "id": "yJQEq6zOuWG2",
        "outputId": "faaa5095-5259-4ab4-e4db-58c9cdac53df"
      },
      "execution_count": 31,
      "outputs": [
        {
          "output_type": "stream",
          "name": "stdout",
          "text": [
            "['Kiwi', 'Orange', 'banana', 'cherry']\n"
          ]
        }
      ]
    },
    {
      "cell_type": "code",
      "source": [
        "thislist = [\"banana\", \"Orange\", \"Kiwi\", \"cherry\"]\n",
        "thislist.sort(key = str.lower)\n",
        "print(thislist)"
      ],
      "metadata": {
        "colab": {
          "base_uri": "https://localhost:8080/"
        },
        "id": "QaLpwvTcusnY",
        "outputId": "f262b3b7-cee2-4ec5-f1f8-5e2ff0e8fa7b"
      },
      "execution_count": 32,
      "outputs": [
        {
          "output_type": "stream",
          "name": "stdout",
          "text": [
            "['banana', 'cherry', 'Kiwi', 'Orange']\n"
          ]
        }
      ]
    },
    {
      "cell_type": "code",
      "source": [],
      "metadata": {
        "id": "3yH-VEZruygp"
      },
      "execution_count": 32,
      "outputs": []
    }
  ]
}